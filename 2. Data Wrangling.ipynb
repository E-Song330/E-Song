{
 "cells": [
  {
   "cell_type": "markdown",
   "id": "9ce4829f",
   "metadata": {},
   "source": [
    "# 2. Data Wrangling"
   ]
  },
  {
   "cell_type": "markdown",
   "id": "f57e4923",
   "metadata": {},
   "source": [
    "- Identify duplicate rows in the data frame.\n",
    "- Remove duplicate rows from the dataframe.\n",
    "- Find the number of missing values for all columns.\n",
    "- Normalize the data using two existing columns. \n"
   ]
  },
  {
   "cell_type": "code",
   "execution_count": 7,
   "id": "e4fdca9f",
   "metadata": {},
   "outputs": [],
   "source": [
    "import pandas as pd"
   ]
  },
  {
   "cell_type": "code",
   "execution_count": 8,
   "id": "8d0981ec",
   "metadata": {},
   "outputs": [],
   "source": [
    "df = pd.read_csv(\"https://cf-courses-data.s3.us.cloud-object-storage.appdomain.cloud/IBM-DA0321EN-SkillsNetwork/LargeData/m1_survey_data.csv\")"
   ]
  },
  {
   "cell_type": "code",
   "execution_count": 9,
   "id": "9771d001",
   "metadata": {},
   "outputs": [
    {
     "data": {
      "text/plain": [
       "154"
      ]
     },
     "execution_count": 9,
     "metadata": {},
     "output_type": "execute_result"
    }
   ],
   "source": [
    "df.duplicated().sum()"
   ]
  },
  {
   "cell_type": "code",
   "execution_count": 10,
   "id": "6b72a590",
   "metadata": {},
   "outputs": [
    {
     "data": {
      "text/plain": [
       "(11398, 85)"
      ]
     },
     "execution_count": 10,
     "metadata": {},
     "output_type": "execute_result"
    }
   ],
   "source": [
    "df=df.drop_duplicates()\n",
    "df.shape"
   ]
  },
  {
   "cell_type": "code",
   "execution_count": 11,
   "id": "ec1389c1",
   "metadata": {},
   "outputs": [
    {
     "data": {
      "text/plain": [
       "0"
      ]
     },
     "execution_count": 11,
     "metadata": {},
     "output_type": "execute_result"
    }
   ],
   "source": [
    "df.duplicated().sum()"
   ]
  },
  {
   "cell_type": "code",
   "execution_count": 12,
   "id": "9205b596",
   "metadata": {},
   "outputs": [
    {
     "data": {
      "text/plain": [
       "Respondent        0\n",
       "MainBranch        0\n",
       "Hobbyist          0\n",
       "OpenSourcer       0\n",
       "OpenSource       81\n",
       "               ... \n",
       "Sexuality       542\n",
       "Ethnicity       675\n",
       "Dependents      140\n",
       "SurveyLength     19\n",
       "SurveyEase       14\n",
       "Length: 85, dtype: int64"
      ]
     },
     "execution_count": 12,
     "metadata": {},
     "output_type": "execute_result"
    }
   ],
   "source": [
    "df.isnull().sum()"
   ]
  },
  {
   "cell_type": "markdown",
   "id": "1de94538",
   "metadata": {},
   "source": [
    "## Normalize"
   ]
  },
  {
   "cell_type": "markdown",
   "id": "3ffccecb",
   "metadata": {},
   "source": [
    "There are two columns in the dataset that talk about compensation.\n",
    "\n",
    "One is \"CompFreq\". This column shows how often a developer is paid (Yearly, Monthly, Weekly).\n",
    "\n",
    "The other is \"CompTotal\". This column talks about how much the developer is paid per Year, Month, or Week depending upon his/her \"CompFreq\". \n",
    "\n",
    "This makes it difficult to compare the total compensation of the developers.\n",
    "\n",
    "In this section I will create a new column called 'NormalizedAnnualCompensation' which contains the 'Annual Compensation' irrespective of the 'CompFreq'.\n",
    "\n",
    "Once this column is ready, it makes comparison of salaries easy.\n",
    "\n"
   ]
  },
  {
   "cell_type": "code",
   "execution_count": 13,
   "id": "3a9b0889",
   "metadata": {},
   "outputs": [
    {
     "data": {
      "text/plain": [
       "Yearly     6073\n",
       "Monthly    4788\n",
       "Weekly      331\n",
       "Name: CompFreq, dtype: int64"
      ]
     },
     "execution_count": 13,
     "metadata": {},
     "output_type": "execute_result"
    }
   ],
   "source": [
    "df['CompFreq'].value_counts()"
   ]
  },
  {
   "cell_type": "code",
   "execution_count": 22,
   "id": "73552d6b",
   "metadata": {},
   "outputs": [
    {
     "data": {
      "text/plain": [
       "0     Yearly\n",
       "1     Yearly\n",
       "2     Yearly\n",
       "3    Monthly\n",
       "4     Yearly\n",
       "Name: CompFreq, dtype: object"
      ]
     },
     "execution_count": 22,
     "metadata": {},
     "output_type": "execute_result"
    }
   ],
   "source": [
    "df['CompFreq'].head()"
   ]
  },
  {
   "cell_type": "code",
   "execution_count": 14,
   "id": "24741dbc",
   "metadata": {},
   "outputs": [
    {
     "data": {
      "text/plain": [
       "809"
      ]
     },
     "execution_count": 14,
     "metadata": {},
     "output_type": "execute_result"
    }
   ],
   "source": [
    "df['CompTotal'].isnull().sum()"
   ]
  },
  {
   "cell_type": "code",
   "execution_count": 15,
   "id": "08852906",
   "metadata": {},
   "outputs": [],
   "source": [
    "list_1=[]\n",
    "end=len(df.index)\n",
    "L=list(range(0,end))\n",
    "\n",
    "for i in L:\n",
    "    if df.iloc[i]['CompFreq']=='Yearly':\n",
    "        x=df.iloc[i]['CompTotal']\n",
    "    elif df.iloc[i]['CompFreq']=='Monthly':\n",
    "        x=df.iloc[i]['CompTotal']*12\n",
    "    elif df.iloc[i]['CompFreq']=='Weekly':\n",
    "        x=df.iloc[i]['CompTotal']*52\n",
    "    else:\n",
    "        x='Nan'\n",
    "    list_1.append(x)"
   ]
  },
  {
   "cell_type": "code",
   "execution_count": 16,
   "id": "4fd0f66f",
   "metadata": {},
   "outputs": [
    {
     "data": {
      "text/plain": [
       "11398"
      ]
     },
     "execution_count": 16,
     "metadata": {},
     "output_type": "execute_result"
    }
   ],
   "source": [
    "len(list_1)"
   ]
  },
  {
   "cell_type": "code",
   "execution_count": 17,
   "id": "d05b5839",
   "metadata": {},
   "outputs": [],
   "source": [
    "df['NormalizedAnnualCompensation']=list_1"
   ]
  },
  {
   "cell_type": "code",
   "execution_count": 18,
   "id": "0226ce37",
   "metadata": {},
   "outputs": [
    {
     "data": {
      "text/plain": [
       "(11398, 86)"
      ]
     },
     "execution_count": 18,
     "metadata": {},
     "output_type": "execute_result"
    }
   ],
   "source": [
    "df.shape"
   ]
  },
  {
   "cell_type": "code",
   "execution_count": 20,
   "id": "1ba8b9cb",
   "metadata": {},
   "outputs": [
    {
     "data": {
      "text/plain": [
       "0     61000.0\n",
       "1    138000.0\n",
       "2     90000.0\n",
       "3    348000.0\n",
       "4     90000.0\n",
       "Name: NormalizedAnnualCompensation, dtype: object"
      ]
     },
     "execution_count": 20,
     "metadata": {},
     "output_type": "execute_result"
    }
   ],
   "source": [
    "df['NormalizedAnnualCompensation'].head()"
   ]
  },
  {
   "cell_type": "code",
   "execution_count": null,
   "id": "3cb0ad3a",
   "metadata": {},
   "outputs": [],
   "source": []
  }
 ],
 "metadata": {
  "kernelspec": {
   "display_name": "Python 3",
   "language": "python",
   "name": "python3"
  },
  "language_info": {
   "codemirror_mode": {
    "name": "ipython",
    "version": 3
   },
   "file_extension": ".py",
   "mimetype": "text/x-python",
   "name": "python",
   "nbconvert_exporter": "python",
   "pygments_lexer": "ipython3",
   "version": "3.8.8"
  }
 },
 "nbformat": 4,
 "nbformat_minor": 5
}
